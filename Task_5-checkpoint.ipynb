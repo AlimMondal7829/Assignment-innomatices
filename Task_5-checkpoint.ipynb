{
 "cells": [
  {
   "cell_type": "code",
   "execution_count": 1,
   "id": "4caadff7",
   "metadata": {},
   "outputs": [
    {
     "name": "stdout",
     "output_type": "stream",
     "text": [
      "Enter the number of test cases: 4\n",
      "Enter the string: 4.000\n",
      "True\n",
      "Enter the string: -1.00\n",
      "True\n",
      "Enter the string: +4.54\n",
      "True\n",
      "Enter the string: someRandomstuff\n",
      "False\n"
     ]
    }
   ],
   "source": [
    "#Detect Floating Point Number:\n",
    "import re\n",
    "testc = int(input(\"Enter the number of test cases: \"))\n",
    "patt = re.compile(r'^[-+]?[0-9]*\\.[0-9]+$')\n",
    "for i in range(testc):\n",
    "    print(bool(patt.match(input(\"Enter the string: \"))))"
   ]
  },
  {
   "cell_type": "code",
   "execution_count": 2,
   "id": "7318b928",
   "metadata": {},
   "outputs": [
    {
     "name": "stdout",
     "output_type": "stream",
     "text": [
      "100,000,000.000\n",
      "100\n",
      "000\n",
      "000\n",
      "000\n"
     ]
    }
   ],
   "source": [
    "#Re.split():\n",
    "regex_pattern = r\"[,.]\"\n",
    "\n",
    "import re\n",
    "print(\"\\n\".join(re.split(regex_pattern, input())))"
   ]
  },
  {
   "cell_type": "code",
   "execution_count": 3,
   "id": "64f82715",
   "metadata": {},
   "outputs": [
    {
     "name": "stdout",
     "output_type": "stream",
     "text": [
      "..12345678910111213141516171820212223\n",
      "1\n"
     ]
    }
   ],
   "source": [
    "#Group(), Groups() & Groupdict():\n",
    "import re\n",
    "patt = re.compile(r'([a-zA-Z0-9])\\1+')\n",
    "matches = patt.search(input())\n",
    "if matches:\n",
    "    print(matches.group(1))\n",
    "else:\n",
    "    print(-1)"
   ]
  },
  {
   "cell_type": "code",
   "execution_count": 4,
   "id": "a6549fba",
   "metadata": {},
   "outputs": [
    {
     "name": "stdout",
     "output_type": "stream",
     "text": [
      "rabcdeefgyYhFjkIoomnpOeorteeeeet\n",
      "ee\n",
      "Ioo\n",
      "Oeo\n",
      "eeeee\n"
     ]
    }
   ],
   "source": [
    "#Re.findall() & Re.finditer():\n",
    "import re\n",
    "patt = re.compile(r\"(?<=[qwrtypsdfghjklzxcvbnm])([aeiou]{2,})(?=[qwrtypsdfghjklzxcvbnm])\", re.IGNORECASE)\n",
    "matches = patt.findall(input())\n",
    "if matches:\n",
    "    print(\"\\n\".join(matches))\n",
    "else:\n",
    "    print(-1)"
   ]
  },
  {
   "cell_type": "code",
   "execution_count": 5,
   "id": "ab649c7b",
   "metadata": {},
   "outputs": [
    {
     "name": "stdout",
     "output_type": "stream",
     "text": [
      "aaadaa\n",
      "aa\n",
      "(0, 1)\n",
      "(1, 2)\n",
      "(4, 5)\n"
     ]
    }
   ],
   "source": [
    "#Re.start() & Re.end():\n",
    "import re\n",
    "s = input()\n",
    "k = input()\n",
    "patt = re.compile(r'(?=('+k+'))')\n",
    "matches = patt.finditer(s)\n",
    "findm = False\n",
    "for match in matches:\n",
    "    findm = True\n",
    "    print((match.start(1), match.end(1) - 1))\n",
    "if findm==False:\n",
    "    print((-1,-1))"
   ]
  },
  {
   "cell_type": "code",
   "execution_count": 6,
   "id": "165fda14",
   "metadata": {},
   "outputs": [
    {
     "name": "stdout",
     "output_type": "stream",
     "text": [
      "11\n",
      "a = 1;\n",
      "a = 1;\n",
      "b = input();\n",
      "b = input();\n",
      "if a + b > 0 && a - b < 0:     start() elif a*b > 10 || a/b < 1:     stop() print set(list(a)) | set(list(b))\n",
      "if a + b > 0 and a - b < 0:     start() elif a*b > 10 or a/b < 1:     stop() print set(list(a)) | set(list(b))\n",
      "3\n",
      "3\n",
      "3\n",
      "3\n",
      "3\n",
      "3\n",
      "5\n",
      "5\n",
      "6\n",
      "6\n",
      "8\n",
      "8\n",
      "9\n",
      "9\n",
      "08\n",
      "08\n"
     ]
    }
   ],
   "source": [
    "#Regex Substitution:\n",
    "import re\n",
    "def replace(match):\n",
    "    if match.group(1) ==\"&&\":\n",
    "        return 'and'\n",
    "    else:\n",
    "        return 'or'\n",
    "n = int(input())\n",
    "for i in range(n):\n",
    "    print(re.sub(r\"(?<= )(\\|\\||&&)(?= )\", replace,input()))"
   ]
  },
  {
   "cell_type": "code",
   "execution_count": 8,
   "id": "7d6f1e9e",
   "metadata": {},
   "outputs": [
    {
     "name": "stdout",
     "output_type": "stream",
     "text": [
      "CDXXI\n",
      "True\n"
     ]
    }
   ],
   "source": [
    "#Validating Roman Numerals:\n",
    "regex_pattern = r\"M{0,3}(C[MD]|D?C{0,3})(X[CL]|L?X{0,3})(I[VX]|V?I{0,3})$\"\n",
    "import re\n",
    "print(str(bool(re.match(regex_pattern, input()))))"
   ]
  },
  {
   "cell_type": "code",
   "execution_count": 9,
   "id": "38627ccf",
   "metadata": {},
   "outputs": [
    {
     "name": "stdout",
     "output_type": "stream",
     "text": [
      "2\n",
      "9587456281\n",
      "Valid Number\n",
      "1245637890\n",
      "Number is not Valid\n"
     ]
    }
   ],
   "source": [
    "#Validating phone numbers\"\n",
    "import re\n",
    "n = int(input())\n",
    "for i in range(n):\n",
    "    if re.match(r'[789]\\d{9}$',input()):   \n",
    "        print('Valid Number')  \n",
    "    else:  \n",
    "        print('Number is not Valid')"
   ]
  },
  {
   "cell_type": "code",
   "execution_count": 10,
   "id": "25a54497",
   "metadata": {},
   "outputs": [
    {
     "name": "stdout",
     "output_type": "stream",
     "text": [
      "Enter the number of email addresses: 2\n",
      "DEXTER <dexter@hotmail.com>\n",
      "DEXTER <dexter@hotmail.com>\n",
      "VIRUS <virus!@variable.:p>\n"
     ]
    }
   ],
   "source": [
    "#Validating and Parsing Email Addresses\n",
    "import re\n",
    "import email.utils\n",
    "n = int(input(\"Enter the number of email addresses: \"))\n",
    "\n",
    "for i in range(n):\n",
    "    name, email = input().split()\n",
    "    patt=\"<[a-z][a-zA-Z0-9\\-\\.\\_]+@[a-zA-Z]+\\.[a-zA-Z]{1,3}>\"\n",
    "    if bool(re.match(patt, email)):\n",
    "        print(name,email)"
   ]
  },
  {
   "cell_type": "code",
   "execution_count": 12,
   "id": "904e54de",
   "metadata": {},
   "outputs": [
    {
     "name": "stdout",
     "output_type": "stream",
     "text": [
      "11\n",
      "#BED\n",
      "{\n",
      "color: #FfFdF8; background-color:#aef;\n",
      "#FfFdF8\n",
      "#aef\n",
      "font-size: 123px;\n",
      "background: -webkit-linear-gradient(top, #f9f9f9, #fff);\n",
      "#f9f9f9\n",
      "#fff\n",
      "}\n",
      "#Cab\n",
      "{\n",
      "background-color: #ABC;\n",
      "#ABC\n",
      "border: 2px dashed #fff;\n",
      "#fff\n",
      "}\n"
     ]
    }
   ],
   "source": [
    "#Hex Color Code:\n",
    "import re\n",
    "n = int(input())\n",
    "inside = False\n",
    "for i in range(n):\n",
    "    st = input()    \n",
    "    if '{' in st:\n",
    "        inside = True\n",
    "    elif '}' in st:\n",
    "        inside = False\n",
    "    elif inside:        \n",
    "        for color in re.findall('#[0-9a-fA-F]{3,6}', st):\n",
    "            print(color)"
   ]
  },
  {
   "cell_type": "code",
   "execution_count": 13,
   "id": "dd7d3179",
   "metadata": {},
   "outputs": [
    {
     "name": "stdout",
     "output_type": "stream",
     "text": [
      "2\n",
      "<html><head><title>HTML Parser - I</title></head>\n",
      "Start : html\n",
      "Start : head\n",
      "Start : title\n",
      "End   : title\n",
      "End   : head\n",
      "<body data-modal-target class='1'><h1>HackerRank</h1><br /></body></html>\n",
      "Start : body\n",
      "-> data-modal-target > None\n",
      "-> class > 1\n",
      "Start : h1\n",
      "End   : h1\n",
      "Empty : br\n",
      "End   : body\n",
      "End   : html\n"
     ]
    }
   ],
   "source": [
    "#HTML Parser - Part 1:\n",
    "import re\n",
    "from html.parser import HTMLParser\n",
    "\n",
    "class My_HTMLParser(HTMLParser):\n",
    "    def handle_starttag(self, tag, attrs):\n",
    "        print(\"Start\".ljust(6) + \":\", tag)\n",
    "        for at in attrs:\n",
    "            print(\"-> {} > {}\".format(at[0], at[1]))\n",
    "    def handle_endtag(self, tag):\n",
    "        print(\"End\".ljust(6) + \":\", tag)\n",
    "    def handle_startendtag(self, tag, attrs):\n",
    "        print(\"Empty\".ljust(6) + \":\", tag)\n",
    "        for at in attrs:\n",
    "            print(\"-> {} > {}\".format(at[0], at[1]))\n",
    "\n",
    "if __name__ == \"__main__\":\n",
    "    parser = My_HTMLParser()\n",
    "    n = int(input().strip())\n",
    "    for _ in range(n):\n",
    "        s = input()\n",
    "        parser.feed(s)"
   ]
  },
  {
   "cell_type": "code",
   "execution_count": 14,
   "id": "86e21f27",
   "metadata": {},
   "outputs": [
    {
     "name": "stdout",
     "output_type": "stream",
     "text": [
      "4\n",
      "<!--[if IE 9]>IE9-specific content\n",
      "<![endif]-->\n",
      "<div> Welcome to HackerRank</div>\n",
      "<!--[if IE 9]>IE9-specific content<![endif]-->\n",
      ">>> Multi-line Comment\n",
      "[if IE 9]>IE9-specific content\n",
      "<![endif]\n",
      ">>> Data\n",
      " Welcome to HackerRank\n",
      ">>> Single-line Comment\n",
      "[if IE 9]>IE9-specific content<![endif]\n"
     ]
    }
   ],
   "source": [
    "#HTML Parser - Part 2:\n",
    "from html.parser import HTMLParser\n",
    "\n",
    "class MyHTMLParser(HTMLParser):\n",
    "    def handle_comment(self, comment):\n",
    "        if '\\n' in comment:\n",
    "            print('>>> Multi-line Comment')\n",
    "        else:\n",
    "            print('>>> Single-line Comment')\n",
    "\n",
    "        print(comment)\n",
    "\n",
    "    def handle_data(self, data):\n",
    "        if data == '\\n': return\n",
    "        print('>>> Data')\n",
    "        print(data)  \n",
    "html = \"\"       \n",
    "for i in range(int(input())):\n",
    "    html += input().rstrip()\n",
    "    html += '\\n'\n",
    "    \n",
    "parser = MyHTMLParser()\n",
    "parser.feed(html)\n",
    "parser.close()"
   ]
  },
  {
   "cell_type": "code",
   "execution_count": 15,
   "id": "46d572e3",
   "metadata": {},
   "outputs": [
    {
     "name": "stdout",
     "output_type": "stream",
     "text": [
      "9\n",
      "<head>\n",
      "<title>HTML</title>\n",
      "</head>\n",
      "<object type=\"application/x-flash\"\n",
      "data=\"your-file.swf\"\n",
      "width=\"0\" height=\"0\">\n",
      "<!-- <param name=\"movie\" value=\"your-file.swf\" /> -->\n",
      "<param name=\"quality\" value=\"high\"/>\n",
      "</object>\n",
      "head\n",
      "title\n",
      "object\n",
      "-> type > application/x-flash\n",
      "-> data > your-file.swf\n",
      "-> width > 0\n",
      "-> height > 0\n",
      "param\n",
      "-> name > quality\n",
      "-> value > high\n"
     ]
    }
   ],
   "source": [
    "#Detect HTML Tags, Attributes and Attribute Values:\n",
    "from html.parser import HTMLParser\n",
    "class MyHTMLParser(HTMLParser):\n",
    "    def handle_starttag(self, tag, attrs):\n",
    "        print(tag)\n",
    "        [print('-> {} > {}'.format(*attr)) for attr in attrs]\n",
    "        \n",
    "html = '\\n'.join([input() for _ in range(int(input()))])\n",
    "parser = MyHTMLParser()\n",
    "parser.feed(html)\n",
    "parser.close()"
   ]
  },
  {
   "cell_type": "code",
   "execution_count": null,
   "id": "b936a1f9",
   "metadata": {},
   "outputs": [],
   "source": []
  }
 ],
 "metadata": {
  "kernelspec": {
   "display_name": "Python 3",
   "language": "python",
   "name": "python3"
  },
  "language_info": {
   "codemirror_mode": {
    "name": "ipython",
    "version": 3
   },
   "file_extension": ".py",
   "mimetype": "text/x-python",
   "name": "python",
   "nbconvert_exporter": "python",
   "pygments_lexer": "ipython3",
   "version": "3.8.8"
  }
 },
 "nbformat": 4,
 "nbformat_minor": 5
}
