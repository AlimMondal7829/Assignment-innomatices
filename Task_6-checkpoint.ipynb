{
 "cells": [
  {
   "cell_type": "code",
   "execution_count": 1,
   "id": "337c7ec7",
   "metadata": {},
   "outputs": [
    {
     "name": "stdout",
     "output_type": "stream",
     "text": [
      "1 2 3 4 -8 -10\n",
      "[-10.  -8.   4.   3.   2.   1.]\n"
     ]
    }
   ],
   "source": [
    "#Arrays:\n",
    "import numpy\n",
    "\n",
    "def arrays(arr):\n",
    "    a = numpy.array(arr,float)\n",
    "    return a[::-1]\n",
    "\n",
    "arr = input().strip().split(' ')\n",
    "result = arrays(arr)\n",
    "print(result)"
   ]
  },
  {
   "cell_type": "code",
   "execution_count": 2,
   "id": "8eaa8901",
   "metadata": {},
   "outputs": [
    {
     "name": "stdout",
     "output_type": "stream",
     "text": [
      "1 2 3 4 5 6 7 8 9\n",
      "[[1 2 3]\n",
      " [4 5 6]\n",
      " [7 8 9]]\n"
     ]
    }
   ],
   "source": [
    "#Shape and Reshape:\n",
    "import numpy\n",
    "arr = input().strip().split()\n",
    "my_array = numpy.array(arr,int)\n",
    "print(numpy.reshape(my_array,(3,3)))"
   ]
  },
  {
   "cell_type": "code",
   "execution_count": 3,
   "id": "ca811f9e",
   "metadata": {},
   "outputs": [
    {
     "name": "stdout",
     "output_type": "stream",
     "text": [
      "2 2\n",
      "12\n",
      "34\n",
      "[[12 34]]\n",
      "[12 34]\n"
     ]
    }
   ],
   "source": [
    "#Transpose and Flatten:\n",
    "import numpy\n",
    "n,m=map(int,input().split())\n",
    "\n",
    "M=[list(map(int,input().split())) for i in range(n)]\n",
    "my_array=numpy.array(M)\n",
    "\n",
    "print(numpy.transpose(my_array))\n",
    "print(my_array.flatten())"
   ]
  },
  {
   "cell_type": "code",
   "execution_count": 4,
   "id": "6f83fdca",
   "metadata": {},
   "outputs": [
    {
     "name": "stdout",
     "output_type": "stream",
     "text": [
      "4 3 2\n",
      "1 2\n",
      "1 2\n",
      "1 2\n",
      "1 2\n",
      "3 4\n",
      "3 4\n",
      "3 4\n",
      "[[1 2]\n",
      " [1 2]\n",
      " [1 2]\n",
      " [1 2]\n",
      " [3 4]\n",
      " [3 4]\n",
      " [3 4]]\n"
     ]
    }
   ],
   "source": [
    "#Concatenate:\n",
    "import numpy\n",
    "p, n, m = map(int,input().split())\n",
    "arr1 = numpy.array([input().split() for i in range(p)],int)\n",
    "arr2 = numpy.array([input().split() for i in range(n)],int)\n",
    "print(numpy.concatenate((arr1, arr2), axis = 0))"
   ]
  },
  {
   "cell_type": "code",
   "execution_count": 5,
   "id": "1b023b2b",
   "metadata": {},
   "outputs": [
    {
     "name": "stdout",
     "output_type": "stream",
     "text": [
      "3 3 3\n",
      "[[[0 0 0]\n",
      "  [0 0 0]\n",
      "  [0 0 0]]\n",
      "\n",
      " [[0 0 0]\n",
      "  [0 0 0]\n",
      "  [0 0 0]]\n",
      "\n",
      " [[0 0 0]\n",
      "  [0 0 0]\n",
      "  [0 0 0]]]\n",
      "[[[1 1 1]\n",
      "  [1 1 1]\n",
      "  [1 1 1]]\n",
      "\n",
      " [[1 1 1]\n",
      "  [1 1 1]\n",
      "  [1 1 1]]\n",
      "\n",
      " [[1 1 1]\n",
      "  [1 1 1]\n",
      "  [1 1 1]]]\n"
     ]
    }
   ],
   "source": [
    "#Zeros and Ones:\n",
    "import numpy\n",
    "\n",
    "shape = tuple(map(int, input().split()))\n",
    "print(numpy.zeros(shape, int))\n",
    "print(numpy.ones(shape, int))"
   ]
  },
  {
   "cell_type": "code",
   "execution_count": 6,
   "id": "89fc63e3",
   "metadata": {},
   "outputs": [
    {
     "name": "stdout",
     "output_type": "stream",
     "text": [
      "3 3\n",
      "[[ 1.  0.  0.]\n",
      " [ 0.  1.  0.]\n",
      " [ 0.  0.  1.]]\n"
     ]
    }
   ],
   "source": [
    "#Eye and Identity:\n",
    "import numpy\n",
    "numpy.set_printoptions(sign=' ')\n",
    "n,m = map(int, input().split())\n",
    "print(numpy.eye(n,m))"
   ]
  },
  {
   "cell_type": "code",
   "execution_count": 7,
   "id": "babe49e4",
   "metadata": {},
   "outputs": [
    {
     "name": "stdout",
     "output_type": "stream",
     "text": [
      "1 4\n",
      "1 2 3 4\n",
      "5 6 7 8\n",
      "[[ 6  8 10 12]]\n",
      "[[-4 -4 -4 -4]]\n",
      "[[ 5 12 21 32]]\n",
      "[[0 0 0 0]]\n",
      "[[1 2 3 4]]\n",
      "[[    1    64  2187 65536]]\n"
     ]
    }
   ],
   "source": [
    "#Array Mathematics:\n",
    "import numpy\n",
    "\n",
    "N, M = map(int, input().split())\n",
    "\n",
    "A = numpy.array([list(map(int, input().split())) for n in range(N)])\n",
    "B = numpy.array([list(map(int, input().split())) for n in range(N)])\n",
    "\n",
    "print(numpy.add(A, B))\n",
    "print(numpy.subtract(A, B))\n",
    "print(numpy.multiply(A, B))\n",
    "print(A//B)\n",
    "print(numpy.mod(A, B))\n",
    "print(numpy.power(A, B))"
   ]
  },
  {
   "cell_type": "code",
   "execution_count": 8,
   "id": "9c9051be",
   "metadata": {},
   "outputs": [
    {
     "name": "stdout",
     "output_type": "stream",
     "text": [
      "1.1 2.2 3.3 4.4 5.5 6.6 7.7 8.8 9.9\n",
      "[ 1.  2.  3.  4.  5.  6.  7.  8.  9.]\n",
      "[  2.   3.   4.   5.   6.   7.   8.   9.  10.]\n",
      "[  1.   2.   3.   4.   6.   7.   8.   9.  10.]\n"
     ]
    }
   ],
   "source": [
    "#Floor, Ceil and Rint:\n",
    "import numpy\n",
    "\n",
    "numpy.set_printoptions(sign=' ')\n",
    "\n",
    "A = numpy.array(input().split(),float)\n",
    "print(numpy.floor(A))\n",
    "print(numpy.ceil(A))\n",
    "print(numpy.rint(A))"
   ]
  },
  {
   "cell_type": "code",
   "execution_count": 9,
   "id": "5f1144d2",
   "metadata": {
    "scrolled": true
   },
   "outputs": [
    {
     "name": "stdout",
     "output_type": "stream",
     "text": [
      "2 2\n",
      "1 2\n",
      "3 4\n",
      "24\n"
     ]
    }
   ],
   "source": [
    "#Sum and Prod:\n",
    "import numpy\n",
    "N, M = map(int, input().split())\n",
    "A = numpy.array([input().split() for i in range(N)],int)\n",
    "print(numpy.prod(numpy.sum(A, axis=0), axis=0))"
   ]
  },
  {
   "cell_type": "code",
   "execution_count": null,
   "id": "7b2bcc19",
   "metadata": {},
   "outputs": [],
   "source": [
    "#Min and Max:\n",
    "import numpy\n",
    "N, M = map(int, input().split())\n",
    "st = numpy.array([input().split() for _ in range(N)],int)\n",
    "output = numpy.min(st, axis=1)\n",
    "final_output = numpy.max(output, axis=0)\n",
    "print(final_output)"
   ]
  },
  {
   "cell_type": "code",
   "execution_count": null,
   "id": "b91ec585",
   "metadata": {},
   "outputs": [],
   "source": [
    "import numpy\n",
    "n=int(input())\n",
    "a = numpy.array([input().split() for i in range(n)],int)\n",
    "b = numpy.array([input().split() for i in range(n)],int)\n",
    "res = numpy.dot(a,b)\n",
    "print (res)"
   ]
  },
  {
   "cell_type": "code",
   "execution_count": null,
   "id": "42ec3e10",
   "metadata": {},
   "outputs": [],
   "source": [
    "import numpy\n",
    "N,M = map(int,input().split())\n",
    "A = numpy.array([input().split() for i in range(N)], int)\n",
    "print(A.mean(axis=1))\n",
    "print(A.var(axis=0))\n",
    "print(A.std(axis=None))"
   ]
  },
  {
   "cell_type": "code",
   "execution_count": null,
   "id": "c0324d9b",
   "metadata": {},
   "outputs": [],
   "source": [
    "import numpy\n",
    "A = numpy.array(input().split(), int)\n",
    "B = numpy.array(input().split(), int)\n",
    "print(numpy.inner(A, B))\n",
    "print(numpy.outer(A, B))"
   ]
  },
  {
   "cell_type": "code",
   "execution_count": null,
   "id": "290a89d1",
   "metadata": {},
   "outputs": [],
   "source": [
    "import numpy\n",
    "poly = [float(x) for x in input().split()]\n",
    "val=float(input())\n",
    "print(numpy.polyval(poly,val))"
   ]
  },
  {
   "cell_type": "code",
   "execution_count": null,
   "id": "51c047f2",
   "metadata": {},
   "outputs": [],
   "source": [
    "import numpy\n",
    "N=int(input())\n",
    "A=numpy.array([input().split() for i in range(N)],float)\n",
    "numpy.set_printoptions(legacy='1.13')\n",
    "print(numpy.linalg.det(A))"
   ]
  }
 ],
 "metadata": {
  "kernelspec": {
   "display_name": "Python 3",
   "language": "python",
   "name": "python3"
  },
  "language_info": {
   "codemirror_mode": {
    "name": "ipython",
    "version": 3
   },
   "file_extension": ".py",
   "mimetype": "text/x-python",
   "name": "python",
   "nbconvert_exporter": "python",
   "pygments_lexer": "ipython3",
   "version": "3.8.8"
  }
 },
 "nbformat": 4,
 "nbformat_minor": 5
}
