{
 "cells": [
  {
   "cell_type": "code",
   "execution_count": null,
   "id": "5561cddf",
   "metadata": {},
   "outputs": [],
   "source": [
    "#Binomial Distribution I:\n",
    "#Url link:https://www.hackerrank.com/challenges/s10-binomial-distribution-1\n",
    "import math\n",
    "\n",
    "p = 1.09/(1+1.09)\n",
    "res = 0\n",
    "for i in range(3):\n",
    "    res += math.factorial(6) / math.factorial(i) / math.factorial(6-i) * p**i * (1-p)**(6-i)\n",
    "Answer = round(1-res, 3)\n",
    "print(Answer)"
   ]
  }
 ],
 "metadata": {
  "kernelspec": {
   "display_name": "Python 3",
   "language": "python",
   "name": "python3"
  },
  "language_info": {
   "codemirror_mode": {
    "name": "ipython",
    "version": 3
   },
   "file_extension": ".py",
   "mimetype": "text/x-python",
   "name": "python",
   "nbconvert_exporter": "python",
   "pygments_lexer": "ipython3",
   "version": "3.8.8"
  }
 },
 "nbformat": 4,
 "nbformat_minor": 5
}
