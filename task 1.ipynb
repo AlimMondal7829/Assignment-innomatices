{
 "cells": [
  {
   "cell_type": "code",
   "execution_count": 1,
   "id": "08328c57",
   "metadata": {},
   "outputs": [
    {
     "name": "stdout",
     "output_type": "stream",
     "text": [
      "Hello, World!\n"
     ]
    }
   ],
   "source": [
    "# Innomatics task 1:\n",
    "# Q1.\n",
    "#  print \"Hello, World!\" in python:\n",
    "print(\"Hello, World!\")"
   ]
  },
  {
   "cell_type": "code",
   "execution_count": 3,
   "id": "81eb6405",
   "metadata": {},
   "outputs": [
    {
     "name": "stdout",
     "output_type": "stream",
     "text": [
      "Enter the number:24\n",
      "Not Weird\n"
     ]
    }
   ],
   "source": [
    "#Q2\n",
    "#use if-else funtion:\n",
    "n = int(input(\"Enter the number:\"))\n",
    "if n % 2 != 0:\n",
    "    print(\"Weird\") \n",
    "elif n>=2 and n<=5:\n",
    "    print(\"Not Weird\")\n",
    "elif n>=6 and n<=20:\n",
    "    print(\"Weird\")\n",
    "elif n>20:\n",
    "    print(\"Not Weird\")"
   ]
  },
  {
   "cell_type": "code",
   "execution_count": 4,
   "id": "04ee5bc6",
   "metadata": {},
   "outputs": [
    {
     "name": "stdout",
     "output_type": "stream",
     "text": [
      "Enter the first number:2\n",
      "Enter the second number:3\n",
      "The sum of the two numbers: 5\n",
      "The difference of the two numbers: -1\n",
      "The product of the two numbers: 6\n"
     ]
    }
   ],
   "source": [
    "#Q3\n",
    "#Arithmetic_Operators:\n",
    "a = int(input(\"Enter the first number:\"))\n",
    "b = int(input(\"Enter the second number:\"))\n",
    "print(\"The sum of the two numbers:\",a+b)\n",
    "print(\"The difference of the two numbers:\",a-b)\n",
    "print(\"The product of the two numbers:\",a*b)"
   ]
  },
  {
   "cell_type": "code",
   "execution_count": 5,
   "id": "16f2f8f6",
   "metadata": {},
   "outputs": [
    {
     "name": "stdout",
     "output_type": "stream",
     "text": [
      "Enter the first integer:2\n",
      "Enter the second integer:3\n",
      "The result of integer division: 0\n",
      "The result of float division: 0.6666666666666666\n"
     ]
    }
   ],
   "source": [
    "#Q4:\n",
    "#Division:\n",
    "a = int(input(\"Enter the first integer:\"))\n",
    "b = int(input(\"Enter the second integer:\"))\n",
    "print(\"The result of integer division:\",a//b)\n",
    "print(\"The result of float division:\",a/b)"
   ]
  },
  {
   "cell_type": "code",
   "execution_count": 6,
   "id": "e4f756ee",
   "metadata": {},
   "outputs": [
    {
     "name": "stdout",
     "output_type": "stream",
     "text": [
      "enter an integer:4\n",
      "0\n",
      "1\n",
      "4\n",
      "9\n"
     ]
    }
   ],
   "source": [
    "#Q5:\n",
    "#useing loops in python:\n",
    "n = int(input(\"enter an integer:\"))\n",
    "for i in range(n):\n",
    "    print(i**2)"
   ]
  },
  {
   "cell_type": "code",
   "execution_count": 7,
   "id": "f8698865",
   "metadata": {},
   "outputs": [
    {
     "name": "stdout",
     "output_type": "stream",
     "text": [
      "Enter a year:2021\n",
      "False\n"
     ]
    }
   ],
   "source": [
    "#Q6:\n",
    "#useing funtions in python:\n",
    "def is_leap(year):\n",
    "    leap = False\n",
    "    \n",
    "    if year%400==0:\n",
    "        leap = True\n",
    "    elif year%100==0:\n",
    "        leap = False\n",
    "    elif year%4==0:\n",
    "        leap = True\n",
    "        \n",
    "    \n",
    "    return leap\n",
    "\n",
    "year = int(input(\"Enter a year:\"))\n",
    "print(is_leap(year))"
   ]
  },
  {
   "cell_type": "markdown",
   "id": "f2793052",
   "metadata": {},
   "source": [
    "#Q7:\n",
    "#Print_Function:\n",
    "n = int(input(\"Enter an integer:\"))\n",
    "strr = ''\n",
    "for i in range(1,n+1):\n",
    "    strr = strr+str(i)\n",
    "print(strr)"
   ]
  }
 ],
 "metadata": {
  "kernelspec": {
   "display_name": "Python 3",
   "language": "python",
   "name": "python3"
  },
  "language_info": {
   "codemirror_mode": {
    "name": "ipython",
    "version": 3
   },
   "file_extension": ".py",
   "mimetype": "text/x-python",
   "name": "python",
   "nbconvert_exporter": "python",
   "pygments_lexer": "ipython3",
   "version": "3.8.8"
  }
 },
 "nbformat": 4,
 "nbformat_minor": 5
}
