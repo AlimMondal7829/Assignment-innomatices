{
 "cells": [
  {
   "cell_type": "code",
   "execution_count": 1,
   "id": "0a69ac9f",
   "metadata": {},
   "outputs": [
    {
     "name": "stdout",
     "output_type": "stream",
     "text": [
      "2\n",
      "2\n",
      "2\n",
      "2\n",
      "[[0, 0, 0], [0, 0, 1], [0, 1, 0], [0, 1, 2], [0, 2, 1], [0, 2, 2], [1, 0, 0], [1, 0, 2], [1, 1, 1], [1, 1, 2], [1, 2, 0], [1, 2, 1], [1, 2, 2], [2, 0, 1], [2, 0, 2], [2, 1, 0], [2, 1, 1], [2, 1, 2], [2, 2, 0], [2, 2, 1], [2, 2, 2]]\n"
     ]
    }
   ],
   "source": [
    "#Task_2:\n",
    "#Q1:List Comprehensions:\n",
    "x = int(input())\n",
    "y = int(input())\n",
    "z = int(input())\n",
    "n = int(input())\n",
    "print([[i,j,k] for i in range(x+1) for j in range(y+1) for k in range(z+1) if ((i+j+k) != n)])"
   ]
  },
  {
   "cell_type": "code",
   "execution_count": null,
   "id": "6bdf5a5e",
   "metadata": {},
   "outputs": [],
   "source": [
    "#Q2:Find the Runner-Up Score!:\n",
    "n = int(input(\"Enter the number of integers: \"))\n",
    "arr = list(set(map(int, input(\"Enter the \"+str(n)+\" integers values following by spaces: \").split())))\n",
    "arr.sort()\n",
    "print(arr[-2])"
   ]
  }
 ],
 "metadata": {
  "kernelspec": {
   "display_name": "Python 3",
   "language": "python",
   "name": "python3"
  },
  "language_info": {
   "codemirror_mode": {
    "name": "ipython",
    "version": 3
   },
   "file_extension": ".py",
   "mimetype": "text/x-python",
   "name": "python",
   "nbconvert_exporter": "python",
   "pygments_lexer": "ipython3",
   "version": "3.8.8"
  }
 },
 "nbformat": 4,
 "nbformat_minor": 5
}
