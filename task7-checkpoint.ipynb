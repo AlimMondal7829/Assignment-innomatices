{
 "cells": [
  {
   "cell_type": "markdown",
   "id": "b60f2c1e",
   "metadata": {},
   "source": [
    "# Descriptive Statistics: \n",
    "          Clasification and diagramatic representation of data.\n",
    " "
   ]
  },
  {
   "cell_type": "markdown",
   "id": "c24b591e",
   "metadata": {},
   "source": [
    "## 1. Measures of Central Tendency:\n",
    "   According to Professor Bowley. averages are \"statistical constants which enable us to comprehend in a· single effort the significance of the whole.\" They give us an idea about the concentration of the values in the central part of the distribution. \n",
    "Plainly speaking,an average of a statistical series is the value of the variable Which is representative of the entire distribution. The following are the measures of central tendency that are in common use:\n",
    " $$1.1  Mean$$\n",
    " $$1.2  Median$$\n",
    " $$1.3  Mode, etc.$$\n"
   ]
  },
  {
   "cell_type": "markdown",
   "id": "7d3498a0",
   "metadata": {},
   "source": [
    "### 1.1 Arithmetic Mean:\n",
    "  Arithmetic mean of a set of observastions is their sum divided by the number of observations. e.g.,the arithmetic mean $\\overline{X}$ of n observations  $X_1$ ,$X_2$,...,$X_n$. is given by \n",
    "  $$\\overline{X} = ^1/_n(X_1 +X_2+...+X_n) = ^1/_n\\sum\\limits_{i=1}^{n} {x_i} $$"
   ]
  },
  {
   "cell_type": "markdown",
   "id": "8b9b787d",
   "metadata": {},
   "source": [
    "#### Code for Arithmetic Mean:"
   ]
  },
  {
   "cell_type": "markdown",
   "id": "218aee7e",
   "metadata": {},
   "source": [
    "##### without library functions:\n",
    "~~~python\n",
    "import pandas as pd\n",
    "import numpy as np\n",
    "#import the data as csv file:\n",
    "data=pd.read_csv('E:\\inomatics assignment question\\data.csv')\n",
    "data\n",
    "#Here we will calculated mean on the Mthly_HH_Income,\n",
    "#Mthly_HH_Income data will be seperated from whole data:\n",
    "x=pd.DataFrame(data['Mthly_HH_Income'])\n",
    "x\n",
    "\n",
    "rows = len(x.axes[0])\n",
    "rows\n",
    "sum=x.sum(axis=0)\n",
    "sum\n",
    "mean=sum/rows\n",
    "mean\n",
    "~~~\n",
    "##### with library functions:\n",
    "~~~python\n",
    "import pandas as pd\n",
    "import numpy as np\n",
    "data=pd.read_csv('E:\\inomatics assignment question\\data.csv')\n",
    "data\n",
    "x=pd.DataFrame(data['Mthly_HH_Income'])\n",
    "x\n",
    "np.mean(x)\n",
    "~~~\n",
    "Here we see that the average monthly income is 41558.0"
   ]
  },
  {
   "cell_type": "markdown",
   "id": "f5a542d6",
   "metadata": {},
   "source": [
    "~~~python\n",
    "import matplotlib.pyplot as plt\n",
    "fig=x.plot()\n",
    "plt.savefig('abcd.png')\n",
    "plt.show()\n",
    "~~~\n",
    "<img src=\"files/abcd.png\" width=\"400\" height=\"200\">\n",
    "Here we see that the mean affected by extreme value.so,we can say that the mean is not suitable measure of central value in case of highly skewed.\n"
   ]
  },
  {
   "cell_type": "markdown",
   "id": "e8ef0303",
   "metadata": {},
   "source": [
    "### 1.2 median:\n",
    "Median of a distribution is the value of the variable which divides it into two equal parts. It is the value which exceeds and is exceeded by the same number of observations, i.e., it is the value such that the number of observations above it is equal to the number of observations below it The median the thus a positional average.\n",
    "In case of ungrouped data, if the number of observations is odd then median is the middle value after the values have been arranged in ascending or descending order of magnitude. In case of even number of observations, there are two middle terms and median is obtained by taking the arithmetic mean of the middle tenns. "
   ]
  },
  {
   "cell_type": "markdown",
   "id": "62c6e18f",
   "metadata": {},
   "source": [
    "#### For example, \n",
    "the median of the values 25, 20,15,35,18, i.e., 15, 18, 20, 25,35 is \n",
    "20 and the median of 8, 20, 50, 25, 15, 30, i.e., of 8, 15, 20, 25, 30, 50 is \n",
    "$^1/_2(20+25)$ = 22·5 ."
   ]
  },
  {
   "cell_type": "markdown",
   "id": "2e122f76",
   "metadata": {},
   "source": [
    "#### Code for Arithmetic Median:\n",
    "#### without library functions:\n",
    "```python\n",
    "import pandas as pd\n",
    "import numpy as np\n",
    "data=pd.read_csv('E:\\inomatics assignment question\\data.csv')\n",
    "data\n",
    "x=list(data['Mthly_HH_Income'])\n",
    "x\n",
    "n = len(x)\n",
    "n\n",
    "x.sort()\n",
    "  \n",
    "if n % 2 == 0:\n",
    "    median1 = x[n//2]\n",
    "    median2 = x[n//2 - 1]\n",
    "    median = (median1 + median2)/2\n",
    "else:\n",
    "    median = x[n//2]\n",
    "print(\"Median is: \" + str(median))\n",
    "```\n",
    "#### with library functions:\n",
    "```python\n",
    "import pandas as pd\n",
    "import numpy as np\n",
    "data=pd.read_csv('E:\\inomatics assignment question\\data.csv')\n",
    "data\n",
    "x=pd.DataFrame(data['Mthly_HH_Income'])\n",
    "x\n",
    "np.median(x)\n",
    "```\n",
    "Here the Median is: 35000.0"
   ]
  },
  {
   "cell_type": "code",
   "execution_count": 60,
   "id": "d7a990f9",
   "metadata": {},
   "outputs": [
    {
     "name": "stdout",
     "output_type": "stream",
     "text": [
      "Mode is / are: 45000\n"
     ]
    }
   ],
   "source": [
    "import pandas as pd\n",
    "import numpy as np\n",
    "from collections import Counter\n",
    "data=pd.read_csv('E:\\inomatics assignment question\\data.csv')\n",
    "data\n",
    "x=list(data['Mthly_HH_Income'])\n",
    "x\n",
    "n = len(x)\n",
    "n\n",
    "data1 = Counter(x)\n",
    "get_mode = dict(data1)\n",
    "mode = [k for k, v in get_mode.items() if v == max(list(data1.values()))]\n",
    "  \n",
    "if len(mode) == n:\n",
    "    get_mode = \"No mode found\"\n",
    "else:\n",
    "    get_mode = \"Mode is / are: \" + ', '.join(map(str, mode))\n",
    "      \n",
    "print(get_mode)\n"
   ]
  },
  {
   "cell_type": "code",
   "execution_count": null,
   "id": "e31f5a83",
   "metadata": {},
   "outputs": [],
   "source": []
  },
  {
   "cell_type": "code",
   "execution_count": 44,
   "id": "e3933a13",
   "metadata": {},
   "outputs": [
    {
     "data": {
      "image/png": "[encoded data removed]",
      "text/plain": [
       "<Figure size 432x288 with 1 Axes>"
      ]
     },
     "metadata": {
      "needs_background": "light"
     },
     "output_type": "display_data"
    }
   ],
   "source": [
    "import matplotlib.pyplot as plt\n",
    "fig=x.plot()\n",
    "plt.savefig('abcd.png')\n",
    "plt.show()\n",
    "\n",
    "\n"
   ]
  },
  {
   "cell_type": "code",
   "execution_count": null,
   "id": "4e94179b",
   "metadata": {},
   "outputs": [],
   "source": []
  }
 ],
 "metadata": {
  "kernelspec": {
   "display_name": "Python 3",
   "language": "python",
   "name": "python3"
  },
  "language_info": {
   "codemirror_mode": {
    "name": "ipython",
    "version": 3
   },
   "file_extension": ".py",
   "mimetype": "text/x-python",
   "name": "python",
   "nbconvert_exporter": "python",
   "pygments_lexer": "ipython3",
   "version": "3.8.8"
  }
 },
 "nbformat": 4,
 "nbformat_minor": 5
}
